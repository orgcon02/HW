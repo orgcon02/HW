{
 "cells": [
  {
   "cell_type": "code",
   "execution_count": 1,
   "metadata": {},
   "outputs": [
    {
     "name": "stdout",
     "output_type": "stream",
     "text": [
      "Hello world!\n",
      "This Alice's greet.\n",
      "This is Bob's greeting. \n",
      "5 + 10 = 15\n",
      "foo\n",
      "==========\n",
      "Current working directory is C:\\Users\\user\n",
      "i like eat apple\n",
      "i like eat oranges\n",
      "i like eat cats\n",
      "Count to 10\n",
      "0\n",
      "1\n",
      "2\n",
      "3\n",
      "4\n",
      "5\n",
      "6\n",
      "7\n",
      "8\n",
      "9\n"
     ]
    }
   ],
   "source": [
    "import os\n",
    "\n",
    "def main(): \n",
    "    print ('Hello world!')\n",
    "    print (\"This Alice's greet.\")\n",
    "    print ('This is Bob\\'s greeting. ')\n",
    "\n",
    "    foo(5, 10)\n",
    "\n",
    "    print('=' * 10)\n",
    "    print('Current working directory is ' + os.getcwd())\n",
    "\n",
    "    counter = 0\n",
    "    counter += 1\n",
    "    \n",
    "    food = ['apple', 'oranges', 'cats']\n",
    "\n",
    "    for i in food:\n",
    "        print('i like eat ' + i)\n",
    "\n",
    "    print('Count to 10')\n",
    "    for i in range(10):\n",
    "        print(i)\n",
    "\n",
    "def foo(param1, secondParam):\n",
    "    res = param1 + secondParam\n",
    "    print('%s + %s = %s' %(param1,secondParam,res))\n",
    "    if res < 50:\n",
    "        print('foo')\n",
    "    elif (res>=50) and ((param1==42) or (secondParam==24)):\n",
    "        print('bar')\n",
    "    else:\n",
    "        print('moo')\n",
    "    return res\n",
    "    \n",
    "\n",
    "if __name__=='__main__':\n",
    "    main()"
   ]
  }
 ],
 "metadata": {
  "kernelspec": {
   "display_name": "Python 3",
   "language": "python",
   "name": "python3"
  },
  "language_info": {
   "codemirror_mode": {
    "name": "ipython",
    "version": 3
   },
   "file_extension": ".py",
   "mimetype": "text/x-python",
   "name": "python",
   "nbconvert_exporter": "python",
   "pygments_lexer": "ipython3",
   "version": "3.6.3"
  }
 },
 "nbformat": 4,
 "nbformat_minor": 2
}

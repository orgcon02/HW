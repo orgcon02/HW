{
 "cells": [
  {
   "cell_type": "code",
   "execution_count": 2,
   "metadata": {
    "scrolled": true
   },
   "outputs": [
    {
     "name": "stdout",
     "output_type": "stream",
     "text": [
      "1 * 1 = 1\n",
      "1 * 2 = 2\n",
      "1 * 3 = 3\n",
      "1 * 4 = 4\n",
      "1 * 5 = 5\n",
      "1 * 6 = 6\n",
      "1 * 7 = 7\n",
      "1 * 8 = 8\n",
      "1 * 9 = 9\n",
      "2 * 1 = 2\n",
      "2 * 2 = 4\n",
      "2 * 3 = 6\n",
      "2 * 4 = 8\n",
      "2 * 5 = 10\n",
      "2 * 6 = 12\n",
      "2 * 7 = 14\n",
      "2 * 8 = 16\n",
      "2 * 9 = 18\n",
      "3 * 1 = 3\n",
      "3 * 2 = 6\n",
      "3 * 3 = 9\n",
      "3 * 4 = 12\n",
      "3 * 5 = 15\n",
      "3 * 6 = 18\n",
      "3 * 7 = 21\n",
      "3 * 8 = 24\n",
      "3 * 9 = 27\n",
      "4 * 1 = 4\n",
      "4 * 2 = 8\n",
      "4 * 3 = 12\n",
      "4 * 4 = 16\n",
      "4 * 5 = 20\n",
      "4 * 6 = 24\n",
      "4 * 7 = 28\n",
      "4 * 8 = 32\n",
      "4 * 9 = 36\n",
      "5 * 1 = 5\n",
      "5 * 2 = 10\n",
      "5 * 3 = 15\n",
      "5 * 4 = 20\n",
      "5 * 5 = 25\n",
      "5 * 6 = 30\n",
      "5 * 7 = 35\n",
      "5 * 8 = 40\n",
      "5 * 9 = 45\n",
      "6 * 1 = 6\n",
      "6 * 2 = 12\n",
      "6 * 3 = 18\n",
      "6 * 4 = 24\n",
      "6 * 5 = 30\n",
      "6 * 6 = 36\n",
      "6 * 7 = 42\n",
      "6 * 8 = 48\n",
      "6 * 9 = 54\n",
      "7 * 1 = 7\n",
      "7 * 2 = 14\n",
      "7 * 3 = 21\n",
      "7 * 4 = 28\n",
      "7 * 5 = 35\n",
      "7 * 6 = 42\n",
      "7 * 7 = 49\n",
      "7 * 8 = 56\n",
      "7 * 9 = 63\n",
      "8 * 1 = 8\n",
      "8 * 2 = 16\n",
      "8 * 3 = 24\n",
      "8 * 4 = 32\n",
      "8 * 5 = 40\n",
      "8 * 6 = 48\n",
      "8 * 7 = 56\n",
      "8 * 8 = 64\n",
      "8 * 9 = 72\n",
      "9 * 1 = 9\n",
      "9 * 2 = 18\n",
      "9 * 3 = 27\n",
      "9 * 4 = 36\n",
      "9 * 5 = 45\n",
      "9 * 6 = 54\n",
      "9 * 7 = 63\n",
      "9 * 8 = 72\n",
      "9 * 9 = 81\n"
     ]
    }
   ],
   "source": [
    "for i in range(1, 10):\n",
    "\n",
    "    for j in range(1, 10):\n",
    "        print (i ,'*', j ,'=' ,i*j)"
   ]
  },
  {
   "cell_type": "code",
   "execution_count": 27,
   "metadata": {},
   "outputs": [
    {
     "ename": "TypeError",
     "evalue": "not enough arguments for format string",
     "output_type": "error",
     "traceback": [
      "\u001b[1;31m---------------------------------------------------------------------------\u001b[0m",
      "\u001b[1;31mTypeError\u001b[0m                                 Traceback (most recent call last)",
      "\u001b[1;32m<ipython-input-27-6acd5c642333>\u001b[0m in \u001b[0;36m<module>\u001b[1;34m()\u001b[0m\n\u001b[0;32m      2\u001b[0m \u001b[1;33m\u001b[0m\u001b[0m\n\u001b[0;32m      3\u001b[0m \u001b[1;32mfor\u001b[0m \u001b[0mi\u001b[0m \u001b[1;32min\u001b[0m \u001b[0mrange\u001b[0m\u001b[1;33m(\u001b[0m\u001b[1;36m1\u001b[0m\u001b[1;33m,\u001b[0m \u001b[1;36m10\u001b[0m\u001b[1;33m)\u001b[0m\u001b[1;33m:\u001b[0m\u001b[1;33m\u001b[0m\u001b[0m\n\u001b[1;32m----> 4\u001b[1;33m     \u001b[0mprint\u001b[0m \u001b[1;33m(\u001b[0m\u001b[1;34m'\\t'\u001b[0m\u001b[1;33m.\u001b[0m\u001b[0mjoin\u001b[0m\u001b[1;33m(\u001b[0m\u001b[1;33m[\u001b[0m\u001b[1;34m'%s*%s=%s%s'\u001b[0m \u001b[1;33m%\u001b[0m \u001b[1;33m(\u001b[0m\u001b[0mj\u001b[0m\u001b[1;33m,\u001b[0m\u001b[0mi\u001b[0m\u001b[1;33m,\u001b[0m\u001b[0mi\u001b[0m\u001b[1;33m*\u001b[0m\u001b[0mj\u001b[0m\u001b[1;33m)\u001b[0m \u001b[1;32mfor\u001b[0m \u001b[0mj\u001b[0m \u001b[1;32min\u001b[0m \u001b[0mrange\u001b[0m\u001b[1;33m(\u001b[0m\u001b[1;36m1\u001b[0m\u001b[1;33m,\u001b[0m\u001b[1;36m10\u001b[0m\u001b[1;33m)\u001b[0m\u001b[1;33m]\u001b[0m\u001b[1;33m)\u001b[0m\u001b[1;33m)\u001b[0m\u001b[1;33m\u001b[0m\u001b[0m\n\u001b[0m",
      "\u001b[1;32m<ipython-input-27-6acd5c642333>\u001b[0m in \u001b[0;36m<listcomp>\u001b[1;34m(.0)\u001b[0m\n\u001b[0;32m      2\u001b[0m \u001b[1;33m\u001b[0m\u001b[0m\n\u001b[0;32m      3\u001b[0m \u001b[1;32mfor\u001b[0m \u001b[0mi\u001b[0m \u001b[1;32min\u001b[0m \u001b[0mrange\u001b[0m\u001b[1;33m(\u001b[0m\u001b[1;36m1\u001b[0m\u001b[1;33m,\u001b[0m \u001b[1;36m10\u001b[0m\u001b[1;33m)\u001b[0m\u001b[1;33m:\u001b[0m\u001b[1;33m\u001b[0m\u001b[0m\n\u001b[1;32m----> 4\u001b[1;33m     \u001b[0mprint\u001b[0m \u001b[1;33m(\u001b[0m\u001b[1;34m'\\t'\u001b[0m\u001b[1;33m.\u001b[0m\u001b[0mjoin\u001b[0m\u001b[1;33m(\u001b[0m\u001b[1;33m[\u001b[0m\u001b[1;34m'%s*%s=%s%s'\u001b[0m \u001b[1;33m%\u001b[0m \u001b[1;33m(\u001b[0m\u001b[0mj\u001b[0m\u001b[1;33m,\u001b[0m\u001b[0mi\u001b[0m\u001b[1;33m,\u001b[0m\u001b[0mi\u001b[0m\u001b[1;33m*\u001b[0m\u001b[0mj\u001b[0m\u001b[1;33m)\u001b[0m \u001b[1;32mfor\u001b[0m \u001b[0mj\u001b[0m \u001b[1;32min\u001b[0m \u001b[0mrange\u001b[0m\u001b[1;33m(\u001b[0m\u001b[1;36m1\u001b[0m\u001b[1;33m,\u001b[0m\u001b[1;36m10\u001b[0m\u001b[1;33m)\u001b[0m\u001b[1;33m]\u001b[0m\u001b[1;33m)\u001b[0m\u001b[1;33m)\u001b[0m\u001b[1;33m\u001b[0m\u001b[0m\n\u001b[0m",
      "\u001b[1;31mTypeError\u001b[0m: not enough arguments for format string"
     ]
    }
   ],
   "source": [
    "#99乘法表\n",
    "\n",
    "for i in range(1, 10):\n",
    "    print ('\\t'.join(['%s*%s=%s%s' % (j,i,i*j) for j in range(1,10)]))"
   ]
  },
  {
   "cell_type": "code",
   "execution_count": 18,
   "metadata": {},
   "outputs": [
    {
     "name": "stdout",
     "output_type": "stream",
     "text": [
      "1 99.30 Justin\n"
     ]
    }
   ],
   "source": [
    "text = '%d %.2f %s' % (1, 99.3, 'Justin')\n",
    "print(text)"
   ]
  },
  {
   "cell_type": "code",
   "execution_count": 16,
   "metadata": {},
   "outputs": [
    {
     "name": "stdout",
     "output_type": "stream",
     "text": [
      "1 99.313 Justin\n"
     ]
    }
   ],
   "source": [
    "print('%d %.3f %s' % (1, 99.313, 'Justin'))"
   ]
  },
  {
   "cell_type": "code",
   "execution_count": 80,
   "metadata": {},
   "outputs": [
    {
     "name": "stdout",
     "output_type": "stream",
     "text": [
      "Collecting multiplication.py\n"
     ]
    },
    {
     "name": "stderr",
     "output_type": "stream",
     "text": [
      "  Could not find a version that satisfies the requirement multiplication.py (from versions: )\n",
      "No matching distribution found for multiplication.py\n"
     ]
    }
   ],
   "source": []
  },
  {
   "cell_type": "code",
   "execution_count": 1,
   "metadata": {
    "collapsed": true
   },
   "outputs": [],
   "source": [
    "import multiplication as m9"
   ]
  },
  {
   "cell_type": "code",
   "execution_count": 3,
   "metadata": {
    "scrolled": false
   },
   "outputs": [
    {
     "name": "stdout",
     "output_type": "stream",
     "text": [
      "1 x 1 =  1    2 x 1 =  2    3 x 1 =  3    \n",
      "1 x 2 =  2    2 x 2 =  4    3 x 2 =  6    \n",
      "1 x 3 =  3    2 x 3 =  6    3 x 3 =  9    \n",
      "1 x 4 =  4    2 x 4 =  8    3 x 4 = 12    \n",
      "1 x 5 =  5    2 x 5 = 10    3 x 5 = 15    \n",
      "1 x 6 =  6    2 x 6 = 12    3 x 6 = 18    \n",
      "1 x 7 =  7    2 x 7 = 14    3 x 7 = 21    \n",
      "1 x 8 =  8    2 x 8 = 16    3 x 8 = 24    \n",
      "1 x 9 =  9    2 x 9 = 18    3 x 9 = 27    \n",
      "\n",
      "4 x 1 =  4    5 x 1 =  5    6 x 1 =  6    \n",
      "4 x 2 =  8    5 x 2 = 10    6 x 2 = 12    \n",
      "4 x 3 = 12    5 x 3 = 15    6 x 3 = 18    \n",
      "4 x 4 = 16    5 x 4 = 20    6 x 4 = 24    \n",
      "4 x 5 = 20    5 x 5 = 25    6 x 5 = 30    \n",
      "4 x 6 = 24    5 x 6 = 30    6 x 6 = 36    \n",
      "4 x 7 = 28    5 x 7 = 35    6 x 7 = 42    \n",
      "4 x 8 = 32    5 x 8 = 40    6 x 8 = 48    \n",
      "4 x 9 = 36    5 x 9 = 45    6 x 9 = 54    \n",
      "\n",
      "7 x 1 =  7    8 x 1 =  8    9 x 1 =  9    \n",
      "7 x 2 = 14    8 x 2 = 16    9 x 2 = 18    \n",
      "7 x 3 = 21    8 x 3 = 24    9 x 3 = 27    \n",
      "7 x 4 = 28    8 x 4 = 32    9 x 4 = 36    \n",
      "7 x 5 = 35    8 x 5 = 40    9 x 5 = 45    \n",
      "7 x 6 = 42    8 x 6 = 48    9 x 6 = 54    \n",
      "7 x 7 = 49    8 x 7 = 56    9 x 7 = 63    \n",
      "7 x 8 = 56    8 x 8 = 64    9 x 8 = 72    \n",
      "7 x 9 = 63    8 x 9 = 72    9 x 9 = 81    \n",
      "\n"
     ]
    }
   ],
   "source": [
    "m9.multiplication_table(1,3)\n",
    "m9.multiplication_table(4,6)\n",
    "m9.multiplication_table(7,9)"
   ]
  },
  {
   "cell_type": "code",
   "execution_count": 91,
   "metadata": {
    "collapsed": true
   },
   "outputs": [],
   "source": [
    "def multiplication_table(m, n):\n",
    "    for i in range(1, 10):\n",
    "        for j in range(m, n+1):\n",
    "            print ('%d x %d = %2d' % (j,i,i*j) , end=\"    \")\n",
    "        print()\n",
    "    print()"
   ]
  },
  {
   "cell_type": "code",
   "execution_count": 92,
   "metadata": {},
   "outputs": [
    {
     "name": "stdout",
     "output_type": "stream",
     "text": [
      "1 x 1 =  1    2 x 1 =  2    3 x 1 =  3    \n",
      "1 x 2 =  2    2 x 2 =  4    3 x 2 =  6    \n",
      "1 x 3 =  3    2 x 3 =  6    3 x 3 =  9    \n",
      "1 x 4 =  4    2 x 4 =  8    3 x 4 = 12    \n",
      "1 x 5 =  5    2 x 5 = 10    3 x 5 = 15    \n",
      "1 x 6 =  6    2 x 6 = 12    3 x 6 = 18    \n",
      "1 x 7 =  7    2 x 7 = 14    3 x 7 = 21    \n",
      "1 x 8 =  8    2 x 8 = 16    3 x 8 = 24    \n",
      "1 x 9 =  9    2 x 9 = 18    3 x 9 = 27    \n",
      "\n",
      "4 x 1 =  4    5 x 1 =  5    6 x 1 =  6    \n",
      "4 x 2 =  8    5 x 2 = 10    6 x 2 = 12    \n",
      "4 x 3 = 12    5 x 3 = 15    6 x 3 = 18    \n",
      "4 x 4 = 16    5 x 4 = 20    6 x 4 = 24    \n",
      "4 x 5 = 20    5 x 5 = 25    6 x 5 = 30    \n",
      "4 x 6 = 24    5 x 6 = 30    6 x 6 = 36    \n",
      "4 x 7 = 28    5 x 7 = 35    6 x 7 = 42    \n",
      "4 x 8 = 32    5 x 8 = 40    6 x 8 = 48    \n",
      "4 x 9 = 36    5 x 9 = 45    6 x 9 = 54    \n",
      "\n",
      "7 x 1 =  7    8 x 1 =  8    9 x 1 =  9    \n",
      "7 x 2 = 14    8 x 2 = 16    9 x 2 = 18    \n",
      "7 x 3 = 21    8 x 3 = 24    9 x 3 = 27    \n",
      "7 x 4 = 28    8 x 4 = 32    9 x 4 = 36    \n",
      "7 x 5 = 35    8 x 5 = 40    9 x 5 = 45    \n",
      "7 x 6 = 42    8 x 6 = 48    9 x 6 = 54    \n",
      "7 x 7 = 49    8 x 7 = 56    9 x 7 = 63    \n",
      "7 x 8 = 56    8 x 8 = 64    9 x 8 = 72    \n",
      "7 x 9 = 63    8 x 9 = 72    9 x 9 = 81    \n",
      "\n"
     ]
    }
   ],
   "source": []
  },
  {
   "cell_type": "code",
   "execution_count": 47,
   "metadata": {
    "collapsed": true
   },
   "outputs": [],
   "source": [
    "def pyramid(n):\n",
    "    pass\n",
    "\n",
    "pyramid(10)"
   ]
  },
  {
   "cell_type": "code",
   "execution_count": 58,
   "metadata": {},
   "outputs": [
    {
     "name": "stdout",
     "output_type": "stream",
     "text": [
      "   * \n",
      "  * * \n",
      " * * * \n",
      "* * * * \n"
     ]
    }
   ],
   "source": [
    "for i in range(4):         # 總共有4層\n",
    "        for j in range(4 - i - 1): # 在第一個*號出現前，先印出空白\n",
    "                 print(\" \", end = \"\")\n",
    "        for k in range(i + 1):                # 印出該層所需要的*字數量\n",
    "                print(\"* \", end = \"\" )\n",
    "        print()                # 換行"
   ]
  },
  {
   "cell_type": "code",
   "execution_count": 5,
   "metadata": {
    "collapsed": true
   },
   "outputs": [],
   "source": [
    "def pyramid(n):\n",
    "    for i in range(n):         # 總共有4層\n",
    "        for j in range(n - i - 1): # 在第一個*號出現前，先印出空白\n",
    "                 print(\" \", end = \"\")\n",
    "        for k in range(i + 1):                # 印出該層所需要的*字數量\n",
    "                print(\"* \", end = \"\" )\n",
    "        print()                # 換行"
   ]
  },
  {
   "cell_type": "code",
   "execution_count": 7,
   "metadata": {},
   "outputs": [
    {
     "name": "stdout",
     "output_type": "stream",
     "text": [
      "   * \n",
      "  * * \n",
      " * * * \n",
      "* * * * \n"
     ]
    }
   ],
   "source": [
    "pyramid(4)"
   ]
  },
  {
   "cell_type": "code",
   "execution_count": 1,
   "metadata": {
    "collapsed": true
   },
   "outputs": [],
   "source": [
    "import pyramid as pyr"
   ]
  },
  {
   "cell_type": "code",
   "execution_count": 3,
   "metadata": {},
   "outputs": [
    {
     "name": "stdout",
     "output_type": "stream",
     "text": [
      "         * \n",
      "        * * \n",
      "       * * * \n",
      "      * * * * \n",
      "     * * * * * \n",
      "    * * * * * * \n",
      "   * * * * * * * \n",
      "  * * * * * * * * \n",
      " * * * * * * * * * \n",
      "* * * * * * * * * * \n"
     ]
    }
   ],
   "source": [
    "pyr.pyramid(10)"
   ]
  }
 ],
 "metadata": {
  "kernelspec": {
   "display_name": "Python 3",
   "language": "python",
   "name": "python3"
  },
  "language_info": {
   "codemirror_mode": {
    "name": "ipython",
    "version": 3
   },
   "file_extension": ".py",
   "mimetype": "text/x-python",
   "name": "python",
   "nbconvert_exporter": "python",
   "pygments_lexer": "ipython3",
   "version": "3.6.3"
  }
 },
 "nbformat": 4,
 "nbformat_minor": 2
}
